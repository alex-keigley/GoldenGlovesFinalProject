{
 "cells": [
  {
   "cell_type": "markdown",
   "id": "c30ce6b6",
   "metadata": {},
   "source": [
    "# The Golden Gloves\n",
    "Data Source - https://www.seanlahman.com/baseball-archive/statistics/  \n",
    "\n",
    "# Summary\n",
    "\n",
    "#### Why Random Forest?\n",
    "It proved to be the model that most accurately predicted inductee status without blanket predicting nobody was inducted.  \n",
    "\n",
    "#### Preprocessing:\n",
    "Before learning with the data, we dropped columns that contained inconsitent data. In addition, we dropped all HOF nominees who were not players. Finally, we built a pipeline that uses SMOAT to oversample the data - This is done to enable the model to have more training data to learn trends in the rare occurence someone is inducted into the HOF.  \n",
    "\n",
    "#### Lessons Learned:\n",
    "* Originally we tried using Logistic Regression, however this ended up being extremely inaccurate - with an accuracy score of 12% once it was properly working. Very low accuracy and recall values.\n",
    "* After this we attempted to use a deep neural network. This model was immediately more accurate, however upon further investigation we found this was only due to it predicting that nobody was inducted to the HOF. It could not predict the rare circumstance. High accuracy and bad recall.\n",
    "* Next was our first iteration of Random Forest Classification, the model was fairly accurate from the start, but didn't make sense when dug into further. The reason behind this was we were feeding in too many columns of data, as we had combined our batting, fielding, and pitching tables all into one. This doesn't work, as players can be inducted soley on one of these tables, and be average on the others.\n",
    "* Finally we seperated our datasets again and ran the Random Forest Model on all of them independantly. This resulted in both the confusion matrixes and feature importances of the predictions looking significantly better. This finally resulsted in precision, recall, and accuracy being greater then 90%.\n"
   ]
  },
  {
   "cell_type": "code",
   "execution_count": 32,
   "id": "4f56c924",
   "metadata": {},
   "outputs": [],
   "source": [
    "# Importing necessary packages\n",
    "import pandas as pd\n",
    "from imblearn.over_sampling import SMOTE\n",
    "from sklearn.ensemble import RandomForestClassifier\n",
    "from imblearn.pipeline import Pipeline\n",
    "import seaborn as sns\n",
    "import matplotlib.pyplot as plt\n",
    "from sklearn.model_selection import train_test_split\n",
    "from sklearn.metrics import confusion_matrix\n",
    "from sklearn.metrics import classification_report\n",
    "\n",
    "# Pandas setup\n",
    "pd.set_option('display.max_columns', None)"
   ]
  },
  {
   "cell_type": "markdown",
   "id": "b65906c8",
   "metadata": {},
   "source": [
    "# Hall of Fame Data\n",
    "Providing example of how two tables could be combined to create a more readble hall of fame table."
   ]
  },
  {
   "cell_type": "code",
   "execution_count": 33,
   "id": "80aeab8e",
   "metadata": {},
   "outputs": [
    {
     "data": {
      "text/html": [
       "<div>\n",
       "<style scoped>\n",
       "    .dataframe tbody tr th:only-of-type {\n",
       "        vertical-align: middle;\n",
       "    }\n",
       "\n",
       "    .dataframe tbody tr th {\n",
       "        vertical-align: top;\n",
       "    }\n",
       "\n",
       "    .dataframe thead th {\n",
       "        text-align: right;\n",
       "    }\n",
       "</style>\n",
       "<table border=\"1\" class=\"dataframe\">\n",
       "  <thead>\n",
       "    <tr style=\"text-align: right;\">\n",
       "      <th></th>\n",
       "      <th>playerID</th>\n",
       "      <th>yearID</th>\n",
       "      <th>votedBy</th>\n",
       "      <th>ballots</th>\n",
       "      <th>needed</th>\n",
       "      <th>votes</th>\n",
       "      <th>inducted</th>\n",
       "      <th>category</th>\n",
       "      <th>needed_note</th>\n",
       "    </tr>\n",
       "  </thead>\n",
       "  <tbody>\n",
       "    <tr>\n",
       "      <th>0</th>\n",
       "      <td>cobbty01</td>\n",
       "      <td>1936</td>\n",
       "      <td>BBWAA</td>\n",
       "      <td>226.0</td>\n",
       "      <td>170.0</td>\n",
       "      <td>222.0</td>\n",
       "      <td>Y</td>\n",
       "      <td>Player</td>\n",
       "      <td>NaN</td>\n",
       "    </tr>\n",
       "    <tr>\n",
       "      <th>1</th>\n",
       "      <td>ruthba01</td>\n",
       "      <td>1936</td>\n",
       "      <td>BBWAA</td>\n",
       "      <td>226.0</td>\n",
       "      <td>170.0</td>\n",
       "      <td>215.0</td>\n",
       "      <td>Y</td>\n",
       "      <td>Player</td>\n",
       "      <td>NaN</td>\n",
       "    </tr>\n",
       "    <tr>\n",
       "      <th>2</th>\n",
       "      <td>wagneho01</td>\n",
       "      <td>1936</td>\n",
       "      <td>BBWAA</td>\n",
       "      <td>226.0</td>\n",
       "      <td>170.0</td>\n",
       "      <td>215.0</td>\n",
       "      <td>Y</td>\n",
       "      <td>Player</td>\n",
       "      <td>NaN</td>\n",
       "    </tr>\n",
       "    <tr>\n",
       "      <th>3</th>\n",
       "      <td>mathech01</td>\n",
       "      <td>1936</td>\n",
       "      <td>BBWAA</td>\n",
       "      <td>226.0</td>\n",
       "      <td>170.0</td>\n",
       "      <td>205.0</td>\n",
       "      <td>Y</td>\n",
       "      <td>Player</td>\n",
       "      <td>NaN</td>\n",
       "    </tr>\n",
       "    <tr>\n",
       "      <th>4</th>\n",
       "      <td>johnswa01</td>\n",
       "      <td>1936</td>\n",
       "      <td>BBWAA</td>\n",
       "      <td>226.0</td>\n",
       "      <td>170.0</td>\n",
       "      <td>189.0</td>\n",
       "      <td>Y</td>\n",
       "      <td>Player</td>\n",
       "      <td>NaN</td>\n",
       "    </tr>\n",
       "  </tbody>\n",
       "</table>\n",
       "</div>"
      ],
      "text/plain": [
       "    playerID  yearID votedBy  ballots  needed  votes inducted category  \\\n",
       "0   cobbty01    1936   BBWAA    226.0   170.0  222.0        Y   Player   \n",
       "1   ruthba01    1936   BBWAA    226.0   170.0  215.0        Y   Player   \n",
       "2  wagneho01    1936   BBWAA    226.0   170.0  215.0        Y   Player   \n",
       "3  mathech01    1936   BBWAA    226.0   170.0  205.0        Y   Player   \n",
       "4  johnswa01    1936   BBWAA    226.0   170.0  189.0        Y   Player   \n",
       "\n",
       "  needed_note  \n",
       "0         NaN  \n",
       "1         NaN  \n",
       "2         NaN  \n",
       "3         NaN  \n",
       "4         NaN  "
      ]
     },
     "execution_count": 33,
     "metadata": {},
     "output_type": "execute_result"
    }
   ],
   "source": [
    "# Importing data\n",
    "hall_of_fame_df = pd.read_csv(\"Resources/baseballdatabank-master/core/HallOfFame.csv\")\n",
    "hall_of_fame_df.head()"
   ]
  },
  {
   "cell_type": "markdown",
   "id": "05097442",
   "metadata": {},
   "source": [
    "# Career Batting Data\n",
    "Providing a general exmaple of how batting data could be used."
   ]
  },
  {
   "cell_type": "code",
   "execution_count": 34,
   "id": "b90a8924",
   "metadata": {},
   "outputs": [
    {
     "data": {
      "text/html": [
       "<div>\n",
       "<style scoped>\n",
       "    .dataframe tbody tr th:only-of-type {\n",
       "        vertical-align: middle;\n",
       "    }\n",
       "\n",
       "    .dataframe tbody tr th {\n",
       "        vertical-align: top;\n",
       "    }\n",
       "\n",
       "    .dataframe thead th {\n",
       "        text-align: right;\n",
       "    }\n",
       "</style>\n",
       "<table border=\"1\" class=\"dataframe\">\n",
       "  <thead>\n",
       "    <tr style=\"text-align: right;\">\n",
       "      <th></th>\n",
       "      <th>playerID</th>\n",
       "      <th>G</th>\n",
       "      <th>AB</th>\n",
       "      <th>R</th>\n",
       "      <th>H</th>\n",
       "      <th>2B</th>\n",
       "      <th>3B</th>\n",
       "      <th>HR</th>\n",
       "      <th>RBI</th>\n",
       "      <th>SB</th>\n",
       "      <th>CS</th>\n",
       "      <th>BB</th>\n",
       "      <th>SO</th>\n",
       "      <th>GIDP</th>\n",
       "    </tr>\n",
       "  </thead>\n",
       "  <tbody>\n",
       "    <tr>\n",
       "      <th>0</th>\n",
       "      <td>abercda01</td>\n",
       "      <td>1</td>\n",
       "      <td>4</td>\n",
       "      <td>0</td>\n",
       "      <td>0</td>\n",
       "      <td>0</td>\n",
       "      <td>0</td>\n",
       "      <td>0</td>\n",
       "      <td>0.0</td>\n",
       "      <td>0.0</td>\n",
       "      <td>0.0</td>\n",
       "      <td>0</td>\n",
       "      <td>0.0</td>\n",
       "      <td>0.0</td>\n",
       "    </tr>\n",
       "    <tr>\n",
       "      <th>1</th>\n",
       "      <td>addybo01</td>\n",
       "      <td>25</td>\n",
       "      <td>118</td>\n",
       "      <td>30</td>\n",
       "      <td>32</td>\n",
       "      <td>6</td>\n",
       "      <td>0</td>\n",
       "      <td>0</td>\n",
       "      <td>13.0</td>\n",
       "      <td>8.0</td>\n",
       "      <td>1.0</td>\n",
       "      <td>4</td>\n",
       "      <td>0.0</td>\n",
       "      <td>0.0</td>\n",
       "    </tr>\n",
       "    <tr>\n",
       "      <th>2</th>\n",
       "      <td>allisar01</td>\n",
       "      <td>29</td>\n",
       "      <td>137</td>\n",
       "      <td>28</td>\n",
       "      <td>40</td>\n",
       "      <td>4</td>\n",
       "      <td>5</td>\n",
       "      <td>0</td>\n",
       "      <td>19.0</td>\n",
       "      <td>3.0</td>\n",
       "      <td>1.0</td>\n",
       "      <td>2</td>\n",
       "      <td>5.0</td>\n",
       "      <td>1.0</td>\n",
       "    </tr>\n",
       "    <tr>\n",
       "      <th>3</th>\n",
       "      <td>allisdo01</td>\n",
       "      <td>27</td>\n",
       "      <td>133</td>\n",
       "      <td>28</td>\n",
       "      <td>44</td>\n",
       "      <td>10</td>\n",
       "      <td>2</td>\n",
       "      <td>2</td>\n",
       "      <td>27.0</td>\n",
       "      <td>1.0</td>\n",
       "      <td>1.0</td>\n",
       "      <td>0</td>\n",
       "      <td>2.0</td>\n",
       "      <td>0.0</td>\n",
       "    </tr>\n",
       "    <tr>\n",
       "      <th>4</th>\n",
       "      <td>ansonca01</td>\n",
       "      <td>25</td>\n",
       "      <td>120</td>\n",
       "      <td>29</td>\n",
       "      <td>39</td>\n",
       "      <td>11</td>\n",
       "      <td>3</td>\n",
       "      <td>0</td>\n",
       "      <td>16.0</td>\n",
       "      <td>6.0</td>\n",
       "      <td>2.0</td>\n",
       "      <td>2</td>\n",
       "      <td>1.0</td>\n",
       "      <td>0.0</td>\n",
       "    </tr>\n",
       "  </tbody>\n",
       "</table>\n",
       "</div>"
      ],
      "text/plain": [
       "    playerID   G   AB   R   H  2B  3B  HR   RBI   SB   CS  BB   SO  GIDP\n",
       "0  abercda01   1    4   0   0   0   0   0   0.0  0.0  0.0   0  0.0   0.0\n",
       "1   addybo01  25  118  30  32   6   0   0  13.0  8.0  1.0   4  0.0   0.0\n",
       "2  allisar01  29  137  28  40   4   5   0  19.0  3.0  1.0   2  5.0   1.0\n",
       "3  allisdo01  27  133  28  44  10   2   2  27.0  1.0  1.0   0  2.0   0.0\n",
       "4  ansonca01  25  120  29  39  11   3   0  16.0  6.0  2.0   2  1.0   0.0"
      ]
     },
     "execution_count": 34,
     "metadata": {},
     "output_type": "execute_result"
    }
   ],
   "source": [
    "# Importing data\n",
    "batting_df = pd.read_csv(\"Resources/baseballdatabank-master/core/batting.csv\")\n",
    "batting_df.drop(columns=['yearID', 'teamID', 'IBB', 'HBP', 'SH', 'SF', 'stint', 'lgID'], inplace=True)\n",
    "batting_df.head()"
   ]
  },
  {
   "cell_type": "code",
   "execution_count": 35,
   "id": "101c886a",
   "metadata": {},
   "outputs": [],
   "source": [
    "# Grouping by playerID and yearID, then sorting by home runs by season\n",
    "career_batting_df = batting_df.groupby(['playerID']).sum()"
   ]
  },
  {
   "cell_type": "code",
   "execution_count": 36,
   "id": "961da06d",
   "metadata": {},
   "outputs": [],
   "source": [
    "# Adding batting prefix to every column to ensure there aren't conflicts when combined with fielding and pitching\n",
    "career_batting_df = career_batting_df.add_prefix('b_')"
   ]
  },
  {
   "cell_type": "markdown",
   "id": "abc3d979",
   "metadata": {},
   "source": [
    "# Career Fielding Data"
   ]
  },
  {
   "cell_type": "code",
   "execution_count": 37,
   "id": "2c338566",
   "metadata": {},
   "outputs": [
    {
     "data": {
      "text/html": [
       "<div>\n",
       "<style scoped>\n",
       "    .dataframe tbody tr th:only-of-type {\n",
       "        vertical-align: middle;\n",
       "    }\n",
       "\n",
       "    .dataframe tbody tr th {\n",
       "        vertical-align: top;\n",
       "    }\n",
       "\n",
       "    .dataframe thead th {\n",
       "        text-align: right;\n",
       "    }\n",
       "</style>\n",
       "<table border=\"1\" class=\"dataframe\">\n",
       "  <thead>\n",
       "    <tr style=\"text-align: right;\">\n",
       "      <th></th>\n",
       "      <th>f_G</th>\n",
       "      <th>f_GS</th>\n",
       "      <th>f_InnOuts</th>\n",
       "      <th>f_PO</th>\n",
       "      <th>f_A</th>\n",
       "      <th>f_E</th>\n",
       "      <th>f_DP</th>\n",
       "    </tr>\n",
       "    <tr>\n",
       "      <th>playerID</th>\n",
       "      <th></th>\n",
       "      <th></th>\n",
       "      <th></th>\n",
       "      <th></th>\n",
       "      <th></th>\n",
       "      <th></th>\n",
       "      <th></th>\n",
       "    </tr>\n",
       "  </thead>\n",
       "  <tbody>\n",
       "    <tr>\n",
       "      <th>aardsda01</th>\n",
       "      <td>331</td>\n",
       "      <td>0.0</td>\n",
       "      <td>1011.0</td>\n",
       "      <td>11</td>\n",
       "      <td>29</td>\n",
       "      <td>3.0</td>\n",
       "      <td>2</td>\n",
       "    </tr>\n",
       "    <tr>\n",
       "      <th>aaronha01</th>\n",
       "      <td>3020</td>\n",
       "      <td>2977.0</td>\n",
       "      <td>78414.0</td>\n",
       "      <td>7436</td>\n",
       "      <td>429</td>\n",
       "      <td>144.0</td>\n",
       "      <td>218</td>\n",
       "    </tr>\n",
       "    <tr>\n",
       "      <th>aaronto01</th>\n",
       "      <td>387</td>\n",
       "      <td>206.0</td>\n",
       "      <td>6472.0</td>\n",
       "      <td>1317</td>\n",
       "      <td>113</td>\n",
       "      <td>22.0</td>\n",
       "      <td>124</td>\n",
       "    </tr>\n",
       "    <tr>\n",
       "      <th>aasedo01</th>\n",
       "      <td>448</td>\n",
       "      <td>91.0</td>\n",
       "      <td>3328.0</td>\n",
       "      <td>67</td>\n",
       "      <td>135</td>\n",
       "      <td>13.0</td>\n",
       "      <td>10</td>\n",
       "    </tr>\n",
       "    <tr>\n",
       "      <th>abadan01</th>\n",
       "      <td>9</td>\n",
       "      <td>4.0</td>\n",
       "      <td>138.0</td>\n",
       "      <td>37</td>\n",
       "      <td>1</td>\n",
       "      <td>1.0</td>\n",
       "      <td>3</td>\n",
       "    </tr>\n",
       "  </tbody>\n",
       "</table>\n",
       "</div>"
      ],
      "text/plain": [
       "            f_G    f_GS  f_InnOuts  f_PO  f_A    f_E  f_DP\n",
       "playerID                                                  \n",
       "aardsda01   331     0.0     1011.0    11   29    3.0     2\n",
       "aaronha01  3020  2977.0    78414.0  7436  429  144.0   218\n",
       "aaronto01   387   206.0     6472.0  1317  113   22.0   124\n",
       "aasedo01    448    91.0     3328.0    67  135   13.0    10\n",
       "abadan01      9     4.0      138.0    37    1    1.0     3"
      ]
     },
     "execution_count": 37,
     "metadata": {},
     "output_type": "execute_result"
    }
   ],
   "source": [
    "# Importing data\n",
    "fielding_df = pd.read_csv(\"Resources/baseballdatabank-master/core/Fielding.csv\")\n",
    "\n",
    "# Dropping inconsistent columns\n",
    "fielding_df.drop(['lgID', 'PB', 'WP', 'SB', 'CS', 'ZR'], axis=1, inplace=True)\n",
    "\n",
    "# Dropping unnecessary columns\n",
    "fielding_df.drop(['yearID', 'stint', 'teamID', 'POS'], axis=1, inplace=True)\n",
    "\n",
    "# Grouping by playerID to get career stats\n",
    "career_fielding_df = fielding_df.groupby(['playerID']).sum()\n",
    "\n",
    "# Adding batting prefix to every column to ensure there aren't conflicts when combined with batting and pitching\n",
    "career_fielding_df = career_fielding_df.add_prefix('f_')\n",
    "career_fielding_df.head()\n"
   ]
  },
  {
   "cell_type": "markdown",
   "id": "9f29b809",
   "metadata": {},
   "source": [
    "# Career Pitching Data"
   ]
  },
  {
   "cell_type": "code",
   "execution_count": 38,
   "id": "5b026f97",
   "metadata": {},
   "outputs": [
    {
     "data": {
      "text/html": [
       "<div>\n",
       "<style scoped>\n",
       "    .dataframe tbody tr th:only-of-type {\n",
       "        vertical-align: middle;\n",
       "    }\n",
       "\n",
       "    .dataframe tbody tr th {\n",
       "        vertical-align: top;\n",
       "    }\n",
       "\n",
       "    .dataframe thead th {\n",
       "        text-align: right;\n",
       "    }\n",
       "</style>\n",
       "<table border=\"1\" class=\"dataframe\">\n",
       "  <thead>\n",
       "    <tr style=\"text-align: right;\">\n",
       "      <th></th>\n",
       "      <th>p_W</th>\n",
       "      <th>p_L</th>\n",
       "      <th>p_G</th>\n",
       "      <th>p_GS</th>\n",
       "      <th>p_CG</th>\n",
       "      <th>p_SHO</th>\n",
       "      <th>p_SV</th>\n",
       "      <th>p_IPouts</th>\n",
       "      <th>p_H</th>\n",
       "      <th>p_ER</th>\n",
       "      <th>p_HR</th>\n",
       "      <th>p_BB</th>\n",
       "      <th>p_SO</th>\n",
       "      <th>p_ERA</th>\n",
       "      <th>p_WP</th>\n",
       "      <th>p_BK</th>\n",
       "      <th>p_BFP</th>\n",
       "      <th>p_GF</th>\n",
       "      <th>p_R</th>\n",
       "    </tr>\n",
       "    <tr>\n",
       "      <th>playerID</th>\n",
       "      <th></th>\n",
       "      <th></th>\n",
       "      <th></th>\n",
       "      <th></th>\n",
       "      <th></th>\n",
       "      <th></th>\n",
       "      <th></th>\n",
       "      <th></th>\n",
       "      <th></th>\n",
       "      <th></th>\n",
       "      <th></th>\n",
       "      <th></th>\n",
       "      <th></th>\n",
       "      <th></th>\n",
       "      <th></th>\n",
       "      <th></th>\n",
       "      <th></th>\n",
       "      <th></th>\n",
       "      <th></th>\n",
       "    </tr>\n",
       "  </thead>\n",
       "  <tbody>\n",
       "    <tr>\n",
       "      <th>aardsda01</th>\n",
       "      <td>16</td>\n",
       "      <td>18</td>\n",
       "      <td>331</td>\n",
       "      <td>0</td>\n",
       "      <td>0</td>\n",
       "      <td>0</td>\n",
       "      <td>69</td>\n",
       "      <td>1011</td>\n",
       "      <td>296</td>\n",
       "      <td>160</td>\n",
       "      <td>41</td>\n",
       "      <td>183</td>\n",
       "      <td>340</td>\n",
       "      <td>46.75</td>\n",
       "      <td>12</td>\n",
       "      <td>1</td>\n",
       "      <td>1475.0</td>\n",
       "      <td>141</td>\n",
       "      <td>169</td>\n",
       "    </tr>\n",
       "    <tr>\n",
       "      <th>aasedo01</th>\n",
       "      <td>66</td>\n",
       "      <td>60</td>\n",
       "      <td>448</td>\n",
       "      <td>91</td>\n",
       "      <td>22</td>\n",
       "      <td>5</td>\n",
       "      <td>82</td>\n",
       "      <td>3328</td>\n",
       "      <td>1085</td>\n",
       "      <td>468</td>\n",
       "      <td>89</td>\n",
       "      <td>457</td>\n",
       "      <td>641</td>\n",
       "      <td>45.41</td>\n",
       "      <td>22</td>\n",
       "      <td>3</td>\n",
       "      <td>4730.0</td>\n",
       "      <td>235</td>\n",
       "      <td>503</td>\n",
       "    </tr>\n",
       "    <tr>\n",
       "      <th>abadfe01</th>\n",
       "      <td>8</td>\n",
       "      <td>29</td>\n",
       "      <td>384</td>\n",
       "      <td>6</td>\n",
       "      <td>0</td>\n",
       "      <td>0</td>\n",
       "      <td>2</td>\n",
       "      <td>992</td>\n",
       "      <td>309</td>\n",
       "      <td>135</td>\n",
       "      <td>42</td>\n",
       "      <td>116</td>\n",
       "      <td>280</td>\n",
       "      <td>40.81</td>\n",
       "      <td>10</td>\n",
       "      <td>2</td>\n",
       "      <td>1399.0</td>\n",
       "      <td>97</td>\n",
       "      <td>143</td>\n",
       "    </tr>\n",
       "    <tr>\n",
       "      <th>abbeybe01</th>\n",
       "      <td>22</td>\n",
       "      <td>40</td>\n",
       "      <td>79</td>\n",
       "      <td>65</td>\n",
       "      <td>52</td>\n",
       "      <td>0</td>\n",
       "      <td>1</td>\n",
       "      <td>1704</td>\n",
       "      <td>686</td>\n",
       "      <td>285</td>\n",
       "      <td>18</td>\n",
       "      <td>192</td>\n",
       "      <td>161</td>\n",
       "      <td>28.07</td>\n",
       "      <td>18</td>\n",
       "      <td>0</td>\n",
       "      <td>2568.0</td>\n",
       "      <td>14</td>\n",
       "      <td>442</td>\n",
       "    </tr>\n",
       "    <tr>\n",
       "      <th>abbeych01</th>\n",
       "      <td>0</td>\n",
       "      <td>0</td>\n",
       "      <td>1</td>\n",
       "      <td>0</td>\n",
       "      <td>0</td>\n",
       "      <td>0</td>\n",
       "      <td>0</td>\n",
       "      <td>6</td>\n",
       "      <td>6</td>\n",
       "      <td>1</td>\n",
       "      <td>0</td>\n",
       "      <td>0</td>\n",
       "      <td>0</td>\n",
       "      <td>4.50</td>\n",
       "      <td>1</td>\n",
       "      <td>0</td>\n",
       "      <td>12.0</td>\n",
       "      <td>1</td>\n",
       "      <td>3</td>\n",
       "    </tr>\n",
       "  </tbody>\n",
       "</table>\n",
       "</div>"
      ],
      "text/plain": [
       "           p_W  p_L  p_G  p_GS  p_CG  p_SHO  p_SV  p_IPouts   p_H  p_ER  p_HR  \\\n",
       "playerID                                                                        \n",
       "aardsda01   16   18  331     0     0      0    69      1011   296   160    41   \n",
       "aasedo01    66   60  448    91    22      5    82      3328  1085   468    89   \n",
       "abadfe01     8   29  384     6     0      0     2       992   309   135    42   \n",
       "abbeybe01   22   40   79    65    52      0     1      1704   686   285    18   \n",
       "abbeych01    0    0    1     0     0      0     0         6     6     1     0   \n",
       "\n",
       "           p_BB  p_SO  p_ERA  p_WP  p_BK   p_BFP  p_GF  p_R  \n",
       "playerID                                                     \n",
       "aardsda01   183   340  46.75    12     1  1475.0   141  169  \n",
       "aasedo01    457   641  45.41    22     3  4730.0   235  503  \n",
       "abadfe01    116   280  40.81    10     2  1399.0    97  143  \n",
       "abbeybe01   192   161  28.07    18     0  2568.0    14  442  \n",
       "abbeych01     0     0   4.50     1     0    12.0     1    3  "
      ]
     },
     "execution_count": 38,
     "metadata": {},
     "output_type": "execute_result"
    }
   ],
   "source": [
    "# Importing data\n",
    "pitching_df = pd.read_csv(\"Resources/baseballdatabank-master/core/Pitching.csv\")\n",
    "\n",
    "# Dropping inconsistent columns\n",
    "pitching_df.drop(['lgID', 'IBB', 'HBP', 'SH', 'SF', 'GIDP', 'BAOpp'], axis=1, inplace=True)\n",
    "\n",
    "# Dropping unnecessary columns\n",
    "pitching_df.drop(['yearID', 'stint', 'teamID'], axis=1, inplace=True)\n",
    "\n",
    "# Grouping by playerID to get career stats\n",
    "career_pitching_df = pitching_df.groupby(['playerID']).sum()\n",
    "\n",
    "# Adding batting prefix to every column to ensure there aren't conflicts when combined with batting and pitching\n",
    "career_pitching_df = career_pitching_df.add_prefix('p_')\n",
    "\n",
    "career_pitching_df.head()"
   ]
  },
  {
   "cell_type": "markdown",
   "id": "38801b47",
   "metadata": {},
   "source": [
    "# Exporting Custom Datasets to CSV files"
   ]
  },
  {
   "cell_type": "code",
   "execution_count": 39,
   "id": "6937c431",
   "metadata": {},
   "outputs": [],
   "source": [
    "# Exporting career batting dataframe to csv\n",
    "career_batting_df.to_csv('Resources/custom-tables/career-batting.csv')\n",
    "\n",
    "# Exporting career fielding dataframe to csv\n",
    "career_fielding_df.to_csv('Resources/custom-tables/career-fielding.csv')\n",
    "\n",
    "# Exporting career pitching dataframe to csv\n",
    "career_pitching_df.to_csv('Resources/custom-tables/career-pitching.csv')"
   ]
  },
  {
   "cell_type": "markdown",
   "id": "0d487b0e",
   "metadata": {},
   "source": [
    "# RFC Career Batting Data"
   ]
  },
  {
   "cell_type": "code",
   "execution_count": 40,
   "id": "0f37a164",
   "metadata": {},
   "outputs": [
    {
     "data": {
      "text/html": [
       "<div>\n",
       "<style scoped>\n",
       "    .dataframe tbody tr th:only-of-type {\n",
       "        vertical-align: middle;\n",
       "    }\n",
       "\n",
       "    .dataframe tbody tr th {\n",
       "        vertical-align: top;\n",
       "    }\n",
       "\n",
       "    .dataframe thead th {\n",
       "        text-align: right;\n",
       "    }\n",
       "</style>\n",
       "<table border=\"1\" class=\"dataframe\">\n",
       "  <thead>\n",
       "    <tr style=\"text-align: right;\">\n",
       "      <th></th>\n",
       "      <th>inducted</th>\n",
       "      <th>b_G</th>\n",
       "      <th>b_AB</th>\n",
       "      <th>b_R</th>\n",
       "      <th>b_H</th>\n",
       "      <th>b_2B</th>\n",
       "      <th>b_3B</th>\n",
       "      <th>b_HR</th>\n",
       "      <th>b_RBI</th>\n",
       "      <th>b_SB</th>\n",
       "      <th>b_CS</th>\n",
       "      <th>b_BB</th>\n",
       "      <th>b_SO</th>\n",
       "      <th>b_GIDP</th>\n",
       "    </tr>\n",
       "  </thead>\n",
       "  <tbody>\n",
       "    <tr>\n",
       "      <th>0</th>\n",
       "      <td>Y</td>\n",
       "      <td>3035</td>\n",
       "      <td>11436</td>\n",
       "      <td>2247</td>\n",
       "      <td>4189</td>\n",
       "      <td>724</td>\n",
       "      <td>295</td>\n",
       "      <td>117</td>\n",
       "      <td>1944.0</td>\n",
       "      <td>896.0</td>\n",
       "      <td>178.0</td>\n",
       "      <td>1249</td>\n",
       "      <td>608.0</td>\n",
       "      <td>0.0</td>\n",
       "    </tr>\n",
       "    <tr>\n",
       "      <th>1</th>\n",
       "      <td>Y</td>\n",
       "      <td>2503</td>\n",
       "      <td>8398</td>\n",
       "      <td>2174</td>\n",
       "      <td>2873</td>\n",
       "      <td>506</td>\n",
       "      <td>136</td>\n",
       "      <td>714</td>\n",
       "      <td>2217.0</td>\n",
       "      <td>123.0</td>\n",
       "      <td>117.0</td>\n",
       "      <td>2062</td>\n",
       "      <td>1330.0</td>\n",
       "      <td>2.0</td>\n",
       "    </tr>\n",
       "    <tr>\n",
       "      <th>2</th>\n",
       "      <td>Y</td>\n",
       "      <td>2794</td>\n",
       "      <td>10439</td>\n",
       "      <td>1739</td>\n",
       "      <td>3420</td>\n",
       "      <td>643</td>\n",
       "      <td>252</td>\n",
       "      <td>101</td>\n",
       "      <td>1733.0</td>\n",
       "      <td>723.0</td>\n",
       "      <td>15.0</td>\n",
       "      <td>963</td>\n",
       "      <td>735.0</td>\n",
       "      <td>0.0</td>\n",
       "    </tr>\n",
       "    <tr>\n",
       "      <th>3</th>\n",
       "      <td>N</td>\n",
       "      <td>2794</td>\n",
       "      <td>10439</td>\n",
       "      <td>1739</td>\n",
       "      <td>3420</td>\n",
       "      <td>643</td>\n",
       "      <td>252</td>\n",
       "      <td>101</td>\n",
       "      <td>1733.0</td>\n",
       "      <td>723.0</td>\n",
       "      <td>15.0</td>\n",
       "      <td>963</td>\n",
       "      <td>735.0</td>\n",
       "      <td>0.0</td>\n",
       "    </tr>\n",
       "    <tr>\n",
       "      <th>4</th>\n",
       "      <td>Y</td>\n",
       "      <td>647</td>\n",
       "      <td>1687</td>\n",
       "      <td>151</td>\n",
       "      <td>362</td>\n",
       "      <td>50</td>\n",
       "      <td>12</td>\n",
       "      <td>7</td>\n",
       "      <td>165.0</td>\n",
       "      <td>20.0</td>\n",
       "      <td>1.0</td>\n",
       "      <td>116</td>\n",
       "      <td>218.0</td>\n",
       "      <td>0.0</td>\n",
       "    </tr>\n",
       "  </tbody>\n",
       "</table>\n",
       "</div>"
      ],
      "text/plain": [
       "  inducted   b_G   b_AB   b_R   b_H  b_2B  b_3B  b_HR   b_RBI   b_SB   b_CS  \\\n",
       "0        Y  3035  11436  2247  4189   724   295   117  1944.0  896.0  178.0   \n",
       "1        Y  2503   8398  2174  2873   506   136   714  2217.0  123.0  117.0   \n",
       "2        Y  2794  10439  1739  3420   643   252   101  1733.0  723.0   15.0   \n",
       "3        N  2794  10439  1739  3420   643   252   101  1733.0  723.0   15.0   \n",
       "4        Y   647   1687   151   362    50    12     7   165.0   20.0    1.0   \n",
       "\n",
       "   b_BB    b_SO  b_GIDP  \n",
       "0  1249   608.0     0.0  \n",
       "1  2062  1330.0     2.0  \n",
       "2   963   735.0     0.0  \n",
       "3   963   735.0     0.0  \n",
       "4   116   218.0     0.0  "
      ]
     },
     "execution_count": 40,
     "metadata": {},
     "output_type": "execute_result"
    }
   ],
   "source": [
    "batting_ml_df = pd.merge(hall_of_fame_df, career_batting_df, left_on='playerID', right_on='playerID')\n",
    "batting_ml_df = batting_ml_df[batting_ml_df['category'] == 'Player']\n",
    "batting_ml_df.drop(['playerID','yearID', 'votedBy', 'ballots', 'needed', 'votes', 'category', 'needed_note'], axis=1, inplace=True)\n",
    "batting_ml_df.head()"
   ]
  },
  {
   "cell_type": "code",
   "execution_count": 41,
   "id": "3233dee9",
   "metadata": {},
   "outputs": [
    {
     "data": {
      "text/plain": [
       "Pipeline(steps=[('sampling', SMOTE(sampling_strategy='not majority')),\n",
       "                ('classifier',\n",
       "                 RandomForestClassifier(max_depth=25, n_estimators=5000,\n",
       "                                        random_state=0))])"
      ]
     },
     "execution_count": 41,
     "metadata": {},
     "output_type": "execute_result"
    }
   ],
   "source": [
    "# Defining oversampling method\n",
    "smote = SMOTE(sampling_strategy='not majority')\n",
    "\n",
    "# Defining learning method\n",
    "rfc = RandomForestClassifier(\n",
    "    max_depth=25,\n",
    "    n_estimators = 5000,\n",
    "    random_state=0)\n",
    "\n",
    "# Define the learning pipeline\n",
    "clf = Pipeline(steps=[('sampling', smote), ('classifier', rfc)])\n",
    "\n",
    "# assigning data\n",
    "y = batting_ml_df[['inducted']].values\n",
    "X = batting_ml_df.drop(['inducted'], axis=1)\n",
    "\n",
    "# splitting data\n",
    "X_train, X_test, y_train, y_test = train_test_split(X, y, test_size=0.2, random_state=0)\n",
    "\n",
    "clf.fit(X_train, y_train)"
   ]
  },
  {
   "cell_type": "code",
   "execution_count": 42,
   "id": "b8d2a99e",
   "metadata": {},
   "outputs": [
    {
     "name": "stdout",
     "output_type": "stream",
     "text": [
      "Accuracy: 0.948019801980198\n"
     ]
    }
   ],
   "source": [
    "# Getting accuracy of model\n",
    "accuracy = clf.score(X_test, y_test)\n",
    "print(f'Accuracy: {accuracy}')"
   ]
  },
  {
   "cell_type": "code",
   "execution_count": 43,
   "id": "51074533",
   "metadata": {},
   "outputs": [
    {
     "data": {
      "text/plain": [
       "array([[754,   9],\n",
       "       [ 33,  12]], dtype=int64)"
      ]
     },
     "execution_count": 43,
     "metadata": {},
     "output_type": "execute_result"
    }
   ],
   "source": [
    "# Creating confusion matrix\n",
    "predictions = clf.predict(X_test)\n",
    "\n",
    "cm = confusion_matrix(y_test, predictions)\n",
    "cm"
   ]
  },
  {
   "cell_type": "code",
   "execution_count": 44,
   "id": "73888338",
   "metadata": {},
   "outputs": [
    {
     "name": "stdout",
     "output_type": "stream",
     "text": [
      "              precision    recall  f1-score   support\n",
      "\n",
      "           N       0.96      0.99      0.97       763\n",
      "           Y       0.57      0.27      0.36        45\n",
      "\n",
      "    accuracy                           0.95       808\n",
      "   macro avg       0.76      0.63      0.67       808\n",
      "weighted avg       0.94      0.95      0.94       808\n",
      "\n"
     ]
    }
   ],
   "source": [
    "# Printing summary of model\n",
    "print(classification_report(y_test, predictions))"
   ]
  },
  {
   "cell_type": "markdown",
   "id": "c3687a52",
   "metadata": {},
   "source": [
    "# Visiualizing the Batting Prediction Model"
   ]
  },
  {
   "cell_type": "code",
   "execution_count": 45,
   "id": "3d2621e9",
   "metadata": {},
   "outputs": [
    {
     "data": {
      "image/png": "[encoded data removed]",
      "text/plain": [
       "<Figure size 1080x576 with 1 Axes>"
      ]
     },
     "metadata": {},
     "output_type": "display_data"
    }
   ],
   "source": [
    "# Increasing plot size\n",
    "sns.set(rc = {'figure.figsize': (15,8)})\n",
    "\n",
    "# Increasing default text size\n",
    "sns.set(font_scale=1.5)\n",
    "\n",
    "# Creating heatmap\n",
    "sns.heatmap(\n",
    "    cm,             # data given to map\n",
    "    annot=True,     # annotating numbers to squares\n",
    "    square=True,    # making all sectors equal squares\n",
    "    xticklabels=['Predict Non-Inductees', 'Predicted Inductees'],\n",
    "    yticklabels=['Actual Non-Inductees', 'Actual Inductees'],\n",
    "    cbar=False,     # disabling color bar\n",
    "    fmt='g'         # forcing standard number notation\n",
    ")\n",
    "\n",
    "# Adding title to plot\n",
    "plt.suptitle('Results of Random Forest Predictions')\n",
    "plt.title(f'Accuracy: {accuracy}')\n",
    "\n",
    "# Displaying plot\n",
    "plt.show()"
   ]
  },
  {
   "cell_type": "code",
   "execution_count": 46,
   "id": "5886efc4",
   "metadata": {},
   "outputs": [
    {
     "data": {
      "image/png": "[encoded data removed]",
      "text/plain": [
       "<Figure size 1080x576 with 1 Axes>"
      ]
     },
     "metadata": {},
     "output_type": "display_data"
    }
   ],
   "source": [
    "# Displaying feature importances\n",
    "importances = clf[1].feature_importances_\n",
    "forest_importances = pd.Series(importances, index=X.columns)\n",
    "\n",
    "fig, ax = plt.subplots()\n",
    "forest_importances.plot.bar(ax=ax)\n",
    "ax.set_title(\"Feature importances using RFC\")\n",
    "ax.set_ylabel(\"Percentage Importance\")\n",
    "fig.tight_layout()"
   ]
  },
  {
   "cell_type": "markdown",
   "id": "5cd2edd1",
   "metadata": {},
   "source": [
    "# RFC of Career Pitching Stats"
   ]
  },
  {
   "cell_type": "code",
   "execution_count": 47,
   "id": "a1539fb2",
   "metadata": {},
   "outputs": [
    {
     "data": {
      "text/html": [
       "<div>\n",
       "<style scoped>\n",
       "    .dataframe tbody tr th:only-of-type {\n",
       "        vertical-align: middle;\n",
       "    }\n",
       "\n",
       "    .dataframe tbody tr th {\n",
       "        vertical-align: top;\n",
       "    }\n",
       "\n",
       "    .dataframe thead th {\n",
       "        text-align: right;\n",
       "    }\n",
       "</style>\n",
       "<table border=\"1\" class=\"dataframe\">\n",
       "  <thead>\n",
       "    <tr style=\"text-align: right;\">\n",
       "      <th></th>\n",
       "      <th>inducted</th>\n",
       "      <th>p_W</th>\n",
       "      <th>p_L</th>\n",
       "      <th>p_G</th>\n",
       "      <th>p_GS</th>\n",
       "      <th>p_CG</th>\n",
       "      <th>p_SHO</th>\n",
       "      <th>p_SV</th>\n",
       "      <th>p_IPouts</th>\n",
       "      <th>p_H</th>\n",
       "      <th>p_ER</th>\n",
       "      <th>p_HR</th>\n",
       "      <th>p_BB</th>\n",
       "      <th>p_SO</th>\n",
       "      <th>p_ERA</th>\n",
       "      <th>p_WP</th>\n",
       "      <th>p_BK</th>\n",
       "      <th>p_BFP</th>\n",
       "      <th>p_GF</th>\n",
       "      <th>p_R</th>\n",
       "    </tr>\n",
       "  </thead>\n",
       "  <tbody>\n",
       "    <tr>\n",
       "      <th>0</th>\n",
       "      <td>Y</td>\n",
       "      <td>0</td>\n",
       "      <td>0</td>\n",
       "      <td>3</td>\n",
       "      <td>0</td>\n",
       "      <td>0</td>\n",
       "      <td>0</td>\n",
       "      <td>1</td>\n",
       "      <td>15</td>\n",
       "      <td>6</td>\n",
       "      <td>2</td>\n",
       "      <td>0</td>\n",
       "      <td>2</td>\n",
       "      <td>0</td>\n",
       "      <td>4.50</td>\n",
       "      <td>0</td>\n",
       "      <td>0</td>\n",
       "      <td>20.0</td>\n",
       "      <td>2</td>\n",
       "      <td>2</td>\n",
       "    </tr>\n",
       "    <tr>\n",
       "      <th>1</th>\n",
       "      <td>Y</td>\n",
       "      <td>94</td>\n",
       "      <td>46</td>\n",
       "      <td>163</td>\n",
       "      <td>148</td>\n",
       "      <td>107</td>\n",
       "      <td>17</td>\n",
       "      <td>4</td>\n",
       "      <td>3664</td>\n",
       "      <td>974</td>\n",
       "      <td>309</td>\n",
       "      <td>10</td>\n",
       "      <td>441</td>\n",
       "      <td>488</td>\n",
       "      <td>36.80</td>\n",
       "      <td>25</td>\n",
       "      <td>4</td>\n",
       "      <td>5006.0</td>\n",
       "      <td>11</td>\n",
       "      <td>398</td>\n",
       "    </tr>\n",
       "    <tr>\n",
       "      <th>2</th>\n",
       "      <td>Y</td>\n",
       "      <td>0</td>\n",
       "      <td>0</td>\n",
       "      <td>2</td>\n",
       "      <td>0</td>\n",
       "      <td>0</td>\n",
       "      <td>0</td>\n",
       "      <td>0</td>\n",
       "      <td>25</td>\n",
       "      <td>7</td>\n",
       "      <td>0</td>\n",
       "      <td>0</td>\n",
       "      <td>6</td>\n",
       "      <td>6</td>\n",
       "      <td>0.00</td>\n",
       "      <td>3</td>\n",
       "      <td>0</td>\n",
       "      <td>37.0</td>\n",
       "      <td>2</td>\n",
       "      <td>5</td>\n",
       "    </tr>\n",
       "    <tr>\n",
       "      <th>3</th>\n",
       "      <td>N</td>\n",
       "      <td>0</td>\n",
       "      <td>0</td>\n",
       "      <td>2</td>\n",
       "      <td>0</td>\n",
       "      <td>0</td>\n",
       "      <td>0</td>\n",
       "      <td>0</td>\n",
       "      <td>25</td>\n",
       "      <td>7</td>\n",
       "      <td>0</td>\n",
       "      <td>0</td>\n",
       "      <td>6</td>\n",
       "      <td>6</td>\n",
       "      <td>0.00</td>\n",
       "      <td>3</td>\n",
       "      <td>0</td>\n",
       "      <td>37.0</td>\n",
       "      <td>2</td>\n",
       "      <td>5</td>\n",
       "    </tr>\n",
       "    <tr>\n",
       "      <th>4</th>\n",
       "      <td>Y</td>\n",
       "      <td>373</td>\n",
       "      <td>188</td>\n",
       "      <td>636</td>\n",
       "      <td>552</td>\n",
       "      <td>435</td>\n",
       "      <td>79</td>\n",
       "      <td>29</td>\n",
       "      <td>14366</td>\n",
       "      <td>4219</td>\n",
       "      <td>1135</td>\n",
       "      <td>90</td>\n",
       "      <td>848</td>\n",
       "      <td>2507</td>\n",
       "      <td>47.69</td>\n",
       "      <td>115</td>\n",
       "      <td>8</td>\n",
       "      <td>18943.0</td>\n",
       "      <td>73</td>\n",
       "      <td>1620</td>\n",
       "    </tr>\n",
       "  </tbody>\n",
       "</table>\n",
       "</div>"
      ],
      "text/plain": [
       "  inducted  p_W  p_L  p_G  p_GS  p_CG  p_SHO  p_SV  p_IPouts   p_H  p_ER  \\\n",
       "0        Y    0    0    3     0     0      0     1        15     6     2   \n",
       "1        Y   94   46  163   148   107     17     4      3664   974   309   \n",
       "2        Y    0    0    2     0     0      0     0        25     7     0   \n",
       "3        N    0    0    2     0     0      0     0        25     7     0   \n",
       "4        Y  373  188  636   552   435     79    29     14366  4219  1135   \n",
       "\n",
       "   p_HR  p_BB  p_SO  p_ERA  p_WP  p_BK    p_BFP  p_GF   p_R  \n",
       "0     0     2     0   4.50     0     0     20.0     2     2  \n",
       "1    10   441   488  36.80    25     4   5006.0    11   398  \n",
       "2     0     6     6   0.00     3     0     37.0     2     5  \n",
       "3     0     6     6   0.00     3     0     37.0     2     5  \n",
       "4    90   848  2507  47.69   115     8  18943.0    73  1620  "
      ]
     },
     "execution_count": 47,
     "metadata": {},
     "output_type": "execute_result"
    }
   ],
   "source": [
    "pitching_ml_df = pd.merge(hall_of_fame_df, career_pitching_df, left_on='playerID', right_on='playerID')\n",
    "pitching_ml_df = pitching_ml_df[pitching_ml_df['category'] == 'Player']\n",
    "pitching_ml_df.drop(['playerID','yearID', 'votedBy', 'ballots', 'needed', 'votes', 'category', 'needed_note'], axis=1, inplace=True)\n",
    "pitching_ml_df.head()"
   ]
  },
  {
   "cell_type": "code",
   "execution_count": 48,
   "id": "84aa6d8d",
   "metadata": {},
   "outputs": [
    {
     "data": {
      "text/plain": [
       "Pipeline(steps=[('sampling', SMOTE(sampling_strategy='not majority')),\n",
       "                ('classifier',\n",
       "                 RandomForestClassifier(max_depth=25, n_estimators=5000,\n",
       "                                        random_state=0))])"
      ]
     },
     "execution_count": 48,
     "metadata": {},
     "output_type": "execute_result"
    }
   ],
   "source": [
    "# Defining oversampling method\n",
    "smote = SMOTE(sampling_strategy='not majority')\n",
    "\n",
    "# Defining learning method\n",
    "rfc = RandomForestClassifier(\n",
    "    max_depth=25,\n",
    "    n_estimators = 5000,\n",
    "    random_state=0)\n",
    "\n",
    "# Define the learning pipeline\n",
    "clf = Pipeline(steps=[('sampling', smote), ('classifier', rfc)])\n",
    "\n",
    "# assigning data\n",
    "y = pitching_ml_df[['inducted']].values\n",
    "X = pitching_ml_df.drop(['inducted'], axis=1)\n",
    "\n",
    "# splitting data\n",
    "X_train, X_test, y_train, y_test = train_test_split(X, y, test_size=0.2, random_state=0)\n",
    "\n",
    "clf.fit(X_train, y_train)"
   ]
  },
  {
   "cell_type": "code",
   "execution_count": 49,
   "id": "47bca6ba",
   "metadata": {},
   "outputs": [
    {
     "name": "stdout",
     "output_type": "stream",
     "text": [
      "Accuracy: 0.91875\n"
     ]
    }
   ],
   "source": [
    "# Getting accuracy of model\n",
    "accuracy = clf.score(X_test, y_test)\n",
    "print(f'Accuracy: {accuracy}')"
   ]
  },
  {
   "cell_type": "code",
   "execution_count": 50,
   "id": "909b3d4a",
   "metadata": {},
   "outputs": [
    {
     "data": {
      "text/plain": [
       "array([[288,  11],\n",
       "       [ 15,   6]], dtype=int64)"
      ]
     },
     "execution_count": 50,
     "metadata": {},
     "output_type": "execute_result"
    }
   ],
   "source": [
    "# Creating confusion matrix\n",
    "from sklearn.metrics import confusion_matrix\n",
    "\n",
    "predictions = clf.predict(X_test)\n",
    "\n",
    "cm = confusion_matrix(y_test, predictions)\n",
    "cm"
   ]
  },
  {
   "cell_type": "code",
   "execution_count": 51,
   "id": "1d34ef26",
   "metadata": {},
   "outputs": [
    {
     "name": "stdout",
     "output_type": "stream",
     "text": [
      "              precision    recall  f1-score   support\n",
      "\n",
      "           N       0.95      0.96      0.96       299\n",
      "           Y       0.35      0.29      0.32        21\n",
      "\n",
      "    accuracy                           0.92       320\n",
      "   macro avg       0.65      0.62      0.64       320\n",
      "weighted avg       0.91      0.92      0.91       320\n",
      "\n"
     ]
    }
   ],
   "source": [
    "# Printing summary of model\n",
    "print(classification_report(y_test, predictions))"
   ]
  },
  {
   "cell_type": "markdown",
   "id": "30e8f9bf",
   "metadata": {},
   "source": [
    "# Visiualizing Pitching Prediction Model"
   ]
  },
  {
   "cell_type": "code",
   "execution_count": 52,
   "id": "f6b3c990",
   "metadata": {},
   "outputs": [
    {
     "data": {
      "image/png": "[encoded data removed]",
      "text/plain": [
       "<Figure size 1080x576 with 1 Axes>"
      ]
     },
     "metadata": {},
     "output_type": "display_data"
    }
   ],
   "source": [
    "# Increasing plot size\n",
    "sns.set(rc = {'figure.figsize': (15,8)})\n",
    "\n",
    "# Increasing default text size\n",
    "sns.set(font_scale=1.5)\n",
    "\n",
    "# Creating heatmap\n",
    "sns.heatmap(\n",
    "    cm,             # data given to map\n",
    "    annot=True,     # annotating numbers to squares\n",
    "    square=True,    # making all sectors equal squares\n",
    "    xticklabels=['Predict Non-Inductees', 'Predicted Inductees'],\n",
    "    yticklabels=['Actual Non-Inductees', 'Actual Inductees'],\n",
    "    cbar=False,     # disabling color bar\n",
    "    fmt='g'         # forcing standard number notation\n",
    ")\n",
    "\n",
    "# Adding title to plot\n",
    "plt.suptitle('Results of Random Forest Predictions')\n",
    "plt.title(f'Accuracy: {accuracy}')\n",
    "\n",
    "# Displaying plot\n",
    "plt.show()"
   ]
  },
  {
   "cell_type": "code",
   "execution_count": 53,
   "id": "9d1d6aaa",
   "metadata": {},
   "outputs": [
    {
     "data": {
      "image/png": "[encoded data removed]",
      "text/plain": [
       "<Figure size 1080x576 with 1 Axes>"
      ]
     },
     "metadata": {},
     "output_type": "display_data"
    }
   ],
   "source": [
    "# Displaying feature importances\n",
    "importances = clf[1].feature_importances_\n",
    "forest_importances = pd.Series(importances, index=X.columns)\n",
    "\n",
    "fig, ax = plt.subplots()\n",
    "forest_importances.plot.bar(ax=ax)\n",
    "ax.set_title(\"Feature importances using RFC\")\n",
    "ax.set_ylabel(\"Percentage Importance\")\n",
    "fig.tight_layout()"
   ]
  },
  {
   "cell_type": "markdown",
   "id": "14fcee63",
   "metadata": {},
   "source": [
    "# RFC of Career Fielding Data"
   ]
  },
  {
   "cell_type": "code",
   "execution_count": 54,
   "id": "c2f36d03",
   "metadata": {},
   "outputs": [
    {
     "data": {
      "text/html": [
       "<div>\n",
       "<style scoped>\n",
       "    .dataframe tbody tr th:only-of-type {\n",
       "        vertical-align: middle;\n",
       "    }\n",
       "\n",
       "    .dataframe tbody tr th {\n",
       "        vertical-align: top;\n",
       "    }\n",
       "\n",
       "    .dataframe thead th {\n",
       "        text-align: right;\n",
       "    }\n",
       "</style>\n",
       "<table border=\"1\" class=\"dataframe\">\n",
       "  <thead>\n",
       "    <tr style=\"text-align: right;\">\n",
       "      <th></th>\n",
       "      <th>inducted</th>\n",
       "      <th>f_G</th>\n",
       "      <th>f_GS</th>\n",
       "      <th>f_InnOuts</th>\n",
       "      <th>f_PO</th>\n",
       "      <th>f_A</th>\n",
       "      <th>f_E</th>\n",
       "      <th>f_DP</th>\n",
       "    </tr>\n",
       "  </thead>\n",
       "  <tbody>\n",
       "    <tr>\n",
       "      <th>0</th>\n",
       "      <td>Y</td>\n",
       "      <td>2954</td>\n",
       "      <td>725.0</td>\n",
       "      <td>19266.0</td>\n",
       "      <td>6507</td>\n",
       "      <td>410</td>\n",
       "      <td>278.0</td>\n",
       "      <td>113</td>\n",
       "    </tr>\n",
       "    <tr>\n",
       "      <th>1</th>\n",
       "      <td>Y</td>\n",
       "      <td>2436</td>\n",
       "      <td>0.0</td>\n",
       "      <td>0.0</td>\n",
       "      <td>4787</td>\n",
       "      <td>569</td>\n",
       "      <td>179.0</td>\n",
       "      <td>86</td>\n",
       "    </tr>\n",
       "    <tr>\n",
       "      <th>2</th>\n",
       "      <td>Y</td>\n",
       "      <td>2777</td>\n",
       "      <td>997.0</td>\n",
       "      <td>50064.0</td>\n",
       "      <td>7940</td>\n",
       "      <td>6782</td>\n",
       "      <td>828.0</td>\n",
       "      <td>963</td>\n",
       "    </tr>\n",
       "    <tr>\n",
       "      <th>3</th>\n",
       "      <td>N</td>\n",
       "      <td>2777</td>\n",
       "      <td>997.0</td>\n",
       "      <td>50064.0</td>\n",
       "      <td>7940</td>\n",
       "      <td>6782</td>\n",
       "      <td>828.0</td>\n",
       "      <td>963</td>\n",
       "    </tr>\n",
       "    <tr>\n",
       "      <th>4</th>\n",
       "      <td>Y</td>\n",
       "      <td>643</td>\n",
       "      <td>266.0</td>\n",
       "      <td>10032.0</td>\n",
       "      <td>313</td>\n",
       "      <td>1506</td>\n",
       "      <td>57.0</td>\n",
       "      <td>44</td>\n",
       "    </tr>\n",
       "  </tbody>\n",
       "</table>\n",
       "</div>"
      ],
      "text/plain": [
       "  inducted   f_G   f_GS  f_InnOuts  f_PO   f_A    f_E  f_DP\n",
       "0        Y  2954  725.0    19266.0  6507   410  278.0   113\n",
       "1        Y  2436    0.0        0.0  4787   569  179.0    86\n",
       "2        Y  2777  997.0    50064.0  7940  6782  828.0   963\n",
       "3        N  2777  997.0    50064.0  7940  6782  828.0   963\n",
       "4        Y   643  266.0    10032.0   313  1506   57.0    44"
      ]
     },
     "execution_count": 54,
     "metadata": {},
     "output_type": "execute_result"
    }
   ],
   "source": [
    "fielding_ml_df = pd.merge(hall_of_fame_df, career_fielding_df, left_on='playerID', right_on='playerID')\n",
    "fielding_ml_df = fielding_ml_df[fielding_ml_df['category'] == 'Player']\n",
    "fielding_ml_df.drop(['playerID','yearID', 'votedBy', 'ballots', 'needed', 'votes', 'category', 'needed_note'], axis=1, inplace=True)\n",
    "fielding_ml_df.head()"
   ]
  },
  {
   "cell_type": "code",
   "execution_count": 55,
   "id": "0c284fea",
   "metadata": {},
   "outputs": [
    {
     "data": {
      "text/plain": [
       "Pipeline(steps=[('sampling', SMOTE(sampling_strategy='not majority')),\n",
       "                ('classifier',\n",
       "                 RandomForestClassifier(max_depth=25, n_estimators=5000,\n",
       "                                        random_state=0))])"
      ]
     },
     "execution_count": 55,
     "metadata": {},
     "output_type": "execute_result"
    }
   ],
   "source": [
    "# Defining oversampling method\n",
    "smote = SMOTE(sampling_strategy='not majority')\n",
    "\n",
    "# Defining learning method\n",
    "rfc = RandomForestClassifier(\n",
    "    max_depth=25,\n",
    "    n_estimators = 5000,\n",
    "    random_state=0)\n",
    "\n",
    "# Define the learning pipeline\n",
    "clf = Pipeline(steps=[('sampling', smote), ('classifier', rfc)])\n",
    "\n",
    "# assigning data\n",
    "y = fielding_ml_df[['inducted']].values\n",
    "X = fielding_ml_df.drop(['inducted'], axis=1)\n",
    "\n",
    "# splitting data\n",
    "X_train, X_test, y_train, y_test = train_test_split(X, y, test_size=0.2, random_state=0)\n",
    "\n",
    "clf.fit(X_train, y_train)"
   ]
  },
  {
   "cell_type": "code",
   "execution_count": 56,
   "id": "e4851e80",
   "metadata": {},
   "outputs": [
    {
     "name": "stdout",
     "output_type": "stream",
     "text": [
      "Accuracy: 0.9294554455445545\n"
     ]
    }
   ],
   "source": [
    "# Getting accuracy of model\n",
    "accuracy = clf.score(X_test, y_test)\n",
    "print(f'Accuracy: {accuracy}')"
   ]
  },
  {
   "cell_type": "code",
   "execution_count": 57,
   "id": "fb0dfbf0",
   "metadata": {},
   "outputs": [
    {
     "data": {
      "text/plain": [
       "array([[743,  20],\n",
       "       [ 37,   8]], dtype=int64)"
      ]
     },
     "execution_count": 57,
     "metadata": {},
     "output_type": "execute_result"
    }
   ],
   "source": [
    "# Creating confusion matrix\n",
    "from sklearn.metrics import confusion_matrix\n",
    "\n",
    "predictions = clf.predict(X_test)\n",
    "\n",
    "cm = confusion_matrix(y_test, predictions)\n",
    "cm"
   ]
  },
  {
   "cell_type": "code",
   "execution_count": 58,
   "id": "e5fc7eb0",
   "metadata": {},
   "outputs": [
    {
     "name": "stdout",
     "output_type": "stream",
     "text": [
      "              precision    recall  f1-score   support\n",
      "\n",
      "           N       0.95      0.97      0.96       763\n",
      "           Y       0.29      0.18      0.22        45\n",
      "\n",
      "    accuracy                           0.93       808\n",
      "   macro avg       0.62      0.58      0.59       808\n",
      "weighted avg       0.92      0.93      0.92       808\n",
      "\n"
     ]
    }
   ],
   "source": [
    "# Printing summary of model\n",
    "print(classification_report(y_test, predictions))"
   ]
  },
  {
   "cell_type": "markdown",
   "id": "d25b12a9",
   "metadata": {},
   "source": [
    "# Visiualzing Fielding Prediction Model"
   ]
  },
  {
   "cell_type": "code",
   "execution_count": 59,
   "id": "a213525d",
   "metadata": {},
   "outputs": [
    {
     "data": {
      "image/png": "[encoded data removed]",
      "text/plain": [
       "<Figure size 1080x576 with 1 Axes>"
      ]
     },
     "metadata": {},
     "output_type": "display_data"
    }
   ],
   "source": [
    "# Increasing plot size\n",
    "sns.set(rc = {'figure.figsize': (15,8)})\n",
    "\n",
    "# Increasing default text size\n",
    "sns.set(font_scale=1.5)\n",
    "\n",
    "# Creating heatmap\n",
    "sns.heatmap(\n",
    "    cm,             # data given to map\n",
    "    annot=True,     # annotating numbers to squares\n",
    "    square=True,    # making all sectors equal squares\n",
    "    xticklabels=['Predict Non-Inductees', 'Predicted Inductees'],\n",
    "    yticklabels=['Actual Non-Inductees', 'Actual Inductees'],\n",
    "    cbar=False,     # disabling color bar\n",
    "    fmt='g'         # forcing standard number notation\n",
    ")\n",
    "\n",
    "# Adding title to plot\n",
    "plt.suptitle('Results of Random Forest Predictions')\n",
    "plt.title(f'Accuracy: {accuracy}')\n",
    "\n",
    "# Displaying plot\n",
    "plt.show()"
   ]
  },
  {
   "cell_type": "code",
   "execution_count": 60,
   "id": "53f3f485",
   "metadata": {},
   "outputs": [
    {
     "data": {
      "image/png": "[encoded data removed]",
      "text/plain": [
       "<Figure size 1080x576 with 1 Axes>"
      ]
     },
     "metadata": {},
     "output_type": "display_data"
    }
   ],
   "source": [
    "# Displaying feature importances\n",
    "importances = clf[1].feature_importances_\n",
    "forest_importances = pd.Series(importances, index=X.columns)\n",
    "\n",
    "fig, ax = plt.subplots()\n",
    "forest_importances.plot.bar(ax=ax)\n",
    "ax.set_title(\"Feature importances using RFC\")\n",
    "ax.set_ylabel(\"Percentage Importance\")\n",
    "fig.tight_layout()"
   ]
  }
 ],
 "metadata": {
  "interpreter": {
   "hash": "006b2a4c59105e151f59d7a783e9669671dc3b315a85df72952575de8c58cde6"
  },
  "kernelspec": {
   "display_name": "PythonData",
   "language": "python",
   "name": "python3"
  },
  "language_info": {
   "codemirror_mode": {
    "name": "ipython",
    "version": 3
   },
   "file_extension": ".py",
   "mimetype": "text/x-python",
   "name": "python",
   "nbconvert_exporter": "python",
   "pygments_lexer": "ipython3",
   "version": "3.9.10"
  }
 },
 "nbformat": 4,
 "nbformat_minor": 5
}
